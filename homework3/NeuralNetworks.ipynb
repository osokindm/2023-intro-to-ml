{
 "cells": [
  {
   "cell_type": "markdown",
   "id": "928e29d0-74bf-4adc-9190-7fc175256f26",
   "metadata": {},
   "source": [
    "# Введение в машинное обучение для Java-разработчиков\n",
    "### Практическое задание 3. Нейронные сети.\n",
    "### Дата выдачи: 2.11.2023\n",
    "\n",
    "### Дедлайн: 23:59MSK 23.11.2023\n",
    "\n",
    "## О задании\n",
    "В этом задании мы попытаемся разобраться в устройстве двухслойной нейронной сети.\n",
    "\n",
    "## Оценивание и штрафы\n",
    "См. оценки в следующей ячейке\n",
    "\n",
    "Задание выполняется самостоятельно. «Похожие» решения считаются плагиатом и все задействованные студенты (в том числе те, у кого списали) не могут получить за него больше 0 баллов, что автоматически ведет к несдаче курса. Если вы нашли решение какого-то из заданий (или его часть) в открытом источнике, необходимо указать ссылку на этот источник в комментариях. \n",
    "В данном задании есть необязательные бонусные задания, выполнение которых добавляет баллы в карму :)\n",
    "\n",
    "## Формат сдачи\n",
    "Задания сдаются путем форка основного репозитория, коммита решения в мастер-ветку вашего форка и оповещении преподавателя о выполнении ДЗ. "
   ]
  },
  {
   "cell_type": "markdown",
   "id": "7baea62d-018e-48c0-bc80-1de460f4472d",
   "metadata": {},
   "source": [
    "## Часть 1. Двухслойная нейронная сеть для задачи бинарной классификации.\n",
    "\n",
    "На первом слое используюйте функцию активации ReLU, на выходном - sigmoid\n",
    "\n",
    "##### На оценку \"удовлетворительно\" необходимо реализовать следующие функции:\n",
    "\n",
    "- [task] - функция активации ReLU\n",
    "- [task] - функция активации Sigmoid\n",
    "- [task] - функция бинарной кросс-энтропи\n",
    "\n",
    "  \n",
    "#####  На оценку \"хорошо\" необходимо реализовать следующие функции:\n",
    "- [task] - реализуйте функцию прямого прохода сети\n",
    "\n",
    "#####  На оценку \"отлично\" необходимо реализовать следующие функции:\n",
    " - [task] - реализуйте функцию обратного прохода сети. Необходимо реализовать расчет градиентов для всех весов (легче всего это сделать в матричной форме), используя свойства расчета производной от сложной функции.\n",
    " - [task] - реализуйте обучение нейронной сети. Сделайте цикл по \"эпохам\", а рамках эпохи перебирайте последовательно все объекты обучающей выборки. Далее на каждом объекте считайте функцию потерь и градиенты."
   ]
  },
  {
   "cell_type": "code",
   "execution_count": 15,
   "id": "b5cf154b-80bc-4dc4-9580-edfd099ea98b",
   "metadata": {},
   "outputs": [],
   "source": [
    "class TwoLayerNeuralNetwork:\n",
    "    def __init__(self, input_size=2, hidden_size=2, output_size=1):\n",
    "        self.input_size = input_size\n",
    "        self.hidden_size = hidden_size\n",
    "        self.output_size = output_size\n",
    "\n",
    "        self.W1 = np.random.randn(input_size, hidden_size)\n",
    "        self.b1 = np.zeros(hidden_size)\n",
    "        self.W2 = np.random.randn(hidden_size, output_size)\n",
    "        self.b2 = np.zeros(output_size)\n",
    "\n",
    "    def ReLU(x):\n",
    "        #\n",
    "        # Your code here\n",
    "        #\n",
    "        pass\n",
    "\n",
    "    def sigmoid(self, x):\n",
    "        #\n",
    "        # Your code here\n",
    "        #\n",
    "        pass\n",
    "\n",
    "    def binary_cross_entropy_loss(self, y_true, y_pred):\n",
    "        #\n",
    "        # Your code here\n",
    "        #\n",
    "        pass\n",
    "    \n",
    "    def forward(self, X):\n",
    "        #\n",
    "        # Your code here\n",
    "        #\n",
    "        pass\n",
    "        \n",
    "    def backward(self, X, y, learning_rate=0.1):\n",
    "        #\n",
    "        # Your code here\n",
    "        #\n",
    "        pass\n",
    "        \n",
    "        \n",
    "    def fit(self, X, y, num_epochs=100, learning_rate=0.1):\n",
    "        #\n",
    "        # Your code here\n",
    "        #\n",
    "        pass"
   ]
  },
  {
   "cell_type": "markdown",
   "id": "19c88aef-5c5c-472a-b59f-97ebefa1c9fa",
   "metadata": {},
   "source": [
    "## Часть 2. Двухслойная нейронная сеть \n",
    "\n",
    "Попробуйте обучить реализацию вашей сети на небольшом синтетическом датасете."
   ]
  },
  {
   "cell_type": "code",
   "execution_count": null,
   "id": "de39f26c-289c-4028-a0e1-de0275780ddc",
   "metadata": {},
   "outputs": [],
   "source": [
    "X, y = make_blobs(n_samples=100, centers=2, n_features=2, random_state=0)\n",
    "\n",
    "plt.scatter(X[:, 0], X[:, 1], c=y, cmap='viridis')\n",
    "plt.xlabel(\"Feature 1\")\n",
    "plt.ylabel(\"Feature 2\")\n",
    "plt.title(\"Сlassification\")\n",
    "plt.show()"
   ]
  }
 ],
 "metadata": {
  "kernelspec": {
   "display_name": "Python 3",
   "language": "python",
   "name": "python3"
  },
  "language_info": {
   "codemirror_mode": {
    "name": "ipython",
    "version": 3
   },
   "file_extension": ".py",
   "mimetype": "text/x-python",
   "name": "python",
   "nbconvert_exporter": "python",
   "pygments_lexer": "ipython3",
   "version": "3.8.18"
  }
 },
 "nbformat": 4,
 "nbformat_minor": 5
}
