{
 "cells": [
  {
   "cell_type": "markdown",
   "source": [
    "3. Напишите функцию на языке Python, реализующую критерий Стьюдента.\n",
    "Для проверки сгенерируйте две выборки из двух нормальных распределений с\n",
    "разными параметрами(100 элементов будет достаточно) и примените критерий\n",
    "Стьюдента. Далее сгенерируйте две выборки из одного нормального распределения,\n",
    "задайте уровень значимости 5% и посчитайте количество ошибок первого рода.\n",
    "hint: scipy.stats.t"
   ],
   "metadata": {
    "collapsed": false
   }
  },
  {
   "cell_type": "code",
   "execution_count": 40,
   "outputs": [
    {
     "name": "stdout",
     "output_type": "stream",
     "text": [
      "p-value = 3.0598200945140844e-11, reject: True\n",
      "Ошибки первого рода: 0.0530\n"
     ]
    }
   ],
   "source": [
    "import numpy as np\n",
    "from scipy import stats\n",
    "\n",
    "def ttest(sample1, sample2, alpha):\n",
    "    stat, p = stats.ttest_ind(sample1, sample2)\n",
    "    reject_null = p < alpha\n",
    "    return p, reject_null\n",
    "\n",
    "np.random.seed(0)\n",
    "sample1 = np.random.normal(loc=0, scale=1, size=100)\n",
    "sample2 = np.random.normal(loc=1, scale=1, size=100)\n",
    "p_value, reject = ttest(sample1, sample2, alpha=0.05)\n",
    "print(f\"p-value = {p_value}, reject: {reject}\")\n",
    "\n",
    "np.random.seed(0)\n",
    "errors_first_type = 0\n",
    "for _ in range(1000):\n",
    "    sample1 = np.random.normal(loc=0, scale=1, size=100)\n",
    "    sample2 = np.random.normal(loc=0, scale=1, size=100)\n",
    "    p_value, reject = ttest(sample1, sample2, alpha=0.05)\n",
    "    if reject:\n",
    "        errors_first_type += 1\n",
    "\n",
    "print(f\"Ошибки первого рода: {errors_first_type / 1000:.4f}\")"
   ],
   "metadata": {
    "collapsed": false
   }
  }
 ],
 "metadata": {
  "kernelspec": {
   "display_name": "Python 3",
   "language": "python",
   "name": "python3"
  },
  "language_info": {
   "codemirror_mode": {
    "name": "ipython",
    "version": 2
   },
   "file_extension": ".py",
   "mimetype": "text/x-python",
   "name": "python",
   "nbconvert_exporter": "python",
   "pygments_lexer": "ipython2",
   "version": "2.7.6"
  }
 },
 "nbformat": 4,
 "nbformat_minor": 0
}
